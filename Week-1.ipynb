{
 "cells": [
  {
   "cell_type": "markdown",
   "id": "d4dd016e",
   "metadata": {},
   "source": [
    "Define Problem Statement ?\n",
    "\n",
    "AI-Driven Energy Forecasting and Anomaly Detection for HVAC Systems used in buildings."
   ]
  },
  {
   "cell_type": "markdown",
   "id": "c92b20f7",
   "metadata": {},
   "source": [
    "collecting data :  https://github.com/Dr-Dina-M-Ibrahim/A-dataset-for-residential-buildings-energy-consumption-with-statistical-and-machine-learning-analysi/blob/main/dataset%20for%20buildings%20energy%20consumption%20of%203840%20records.xlsx"
   ]
  },
  {
   "cell_type": "markdown",
   "id": "fa2bf375",
   "metadata": {},
   "source": [
    "Using supervised learning for Forecasting Energy. Model used is~ Linear Regression\n",
    "\n",
    "Using Unsupervised learning for Anomaly Detection. Model used is~ K-means Clustering"
   ]
  },
  {
   "cell_type": "code",
   "execution_count": 44,
   "id": "39fc0440",
   "metadata": {},
   "outputs": [],
   "source": [
    "import pandas as pd\n",
    "import numpy as np\n",
    "import matplotlib.pyplot as plt\n",
    "import seaborn as sns\n"
   ]
  },
  {
   "cell_type": "markdown",
   "id": "f942507e",
   "metadata": {},
   "source": [
    "Load the data"
   ]
  },
  {
   "cell_type": "code",
   "execution_count": 45,
   "id": "f4ada3d6",
   "metadata": {},
   "outputs": [
    {
     "name": "stdout",
     "output_type": "stream",
     "text": [
      "(3847, 29)\n",
      "   Unnamed: 0  Building Area m2  Floor Height m  Exterior Win Area  \\\n",
      "0         NaN            184.53             2.8            23.2485   \n",
      "1         NaN            184.53             2.8            23.2485   \n",
      "2         NaN            184.53             2.8            23.2485   \n",
      "3         NaN            184.53             2.8            23.2485   \n",
      "4         NaN            184.53             2.8            23.2485   \n",
      "\n",
      "   Opaque Exterior Wall Area  \\\n",
      "0                    209.237   \n",
      "1                    209.237   \n",
      "2                    209.237   \n",
      "3                    209.237   \n",
      "4                    209.237   \n",
      "\n",
      "   WWR %\\n = 10-90% of Exterior Win (D) from Opaque Wall (E)  \\\n",
      "0                                               10.0           \n",
      "1                                               10.0           \n",
      "2                                               10.0           \n",
      "3                                               10.0           \n",
      "4                                               10.0           \n",
      "\n",
      "   Win U-value (W/m2K)  Roof U-value (W/m2K)  Wall U-value (W/m2K)  \\\n",
      "0                 0.97                  0.13                  3.34   \n",
      "1                 0.97                  0.13                  2.82   \n",
      "2                 0.97                  0.13                  2.11   \n",
      "3                 0.97                  0.13                  1.62   \n",
      "4                 0.97                  0.13                  1.03   \n",
      "\n",
      "   Cooling MWh  ...          cp         hp      c-cp      cp-c       h-hp  \\\n",
      "0      46.1778  ...  150.706425 -16.349204  4.781148  4.781148  18.482079   \n",
      "1      41.1849  ...  134.828745 -16.571244  4.384388  4.384388  18.378599   \n",
      "2      34.0230  ...  113.149605 -16.874414  3.842658  3.842658  18.237309   \n",
      "3      28.6451  ...   98.187945 -17.083644  3.468788  3.468788  18.139799   \n",
      "4      21.9346  ...   80.172885 -17.335574  3.018618  3.018618  18.022389   \n",
      "\n",
      "        hp-h      c er2       h er2       mre Unnamed: 28  \n",
      "0  18.482079  22.859376  341.587263  0.032764    8.665336  \n",
      "1  18.378599  19.222858  337.772920  0.033611   10.168782  \n",
      "2  18.237309  14.766021  332.599458  0.035155   13.381302  \n",
      "3  18.139799  12.032490  329.052326  0.036622   17.175319  \n",
      "4  18.022389   9.112055  324.806523  0.039124   26.240530  \n",
      "\n",
      "[5 rows x 29 columns]\n",
      "<class 'pandas.core.frame.DataFrame'>\n",
      "RangeIndex: 3847 entries, 0 to 3846\n",
      "Data columns (total 29 columns):\n",
      " #   Column                                                    Non-Null Count  Dtype  \n",
      "---  ------                                                    --------------  -----  \n",
      " 0   Unnamed: 0                                                0 non-null      float64\n",
      " 1   Building Area m2                                          3840 non-null   float64\n",
      " 2   Floor Height m                                            3840 non-null   float64\n",
      " 3   Exterior Win Area                                         3840 non-null   float64\n",
      " 4   Opaque Exterior Wall Area                                 3840 non-null   float64\n",
      " 5   WWR %\n",
      " = 10-90% of Exterior Win (D) from Opaque Wall (E)  3840 non-null   float64\n",
      " 6   Win U-value (W/m2K)                                       3840 non-null   float64\n",
      " 7   Roof U-value (W/m2K)                                      3840 non-null   float64\n",
      " 8   Wall U-value (W/m2K)                                      3840 non-null   float64\n",
      " 9   Cooling MWh                                               3840 non-null   float64\n",
      " 10  Heating MWh                                               3840 non-null   float64\n",
      " 11  Total Energy MWh                                          3840 non-null   float64\n",
      " 12  Cooling KWh/m2.yr                                         3840 non-null   float64\n",
      " 13  Heating KWh/m2.yr                                         3840 non-null   float64\n",
      " 14  Total Energy KWh/m2.yr                                    3840 non-null   float64\n",
      " 15  Unnamed: 15                                               0 non-null      float64\n",
      " 16  Unnamed: 16                                               4 non-null      object \n",
      " 17  c                                                         3845 non-null   float64\n",
      " 18  h                                                         3841 non-null   float64\n",
      " 19  cp                                                        3843 non-null   object \n",
      " 20  hp                                                        3843 non-null   float64\n",
      " 21  c-cp                                                      3841 non-null   float64\n",
      " 22  cp-c                                                      3843 non-null   object \n",
      " 23  h-hp                                                      3843 non-null   float64\n",
      " 24  hp-h                                                      3841 non-null   float64\n",
      " 25  c er2                                                     3841 non-null   float64\n",
      " 26  h er2                                                     3841 non-null   float64\n",
      " 27  mre                                                       3841 non-null   float64\n",
      " 28  Unnamed: 28                                               3841 non-null   float64\n",
      "dtypes: float64(26), object(3)\n",
      "memory usage: 871.7+ KB\n",
      "None\n"
     ]
    }
   ],
   "source": [
    "\n",
    "file_path = r\"C:\\Users\\sarth\\Downloads\\dataset for buildings energy consumption of 3840 records.xlsx\"\n",
    "df = pd.read_excel(file_path)\n",
    "\n",
    "print(df.shape)\n",
    "print(df.head())\n",
    "print(df.info())\n"
   ]
  },
  {
   "cell_type": "markdown",
   "id": "223f4de9",
   "metadata": {},
   "source": [
    "Cleaning"
   ]
  },
  {
   "cell_type": "code",
   "execution_count": 46,
   "id": "741b1286",
   "metadata": {},
   "outputs": [
    {
     "name": "stdout",
     "output_type": "stream",
     "text": [
      "Unnamed: 0                                                   3847\n",
      "Building Area m2                                                7\n",
      "Floor Height m                                                  7\n",
      "Exterior Win Area                                               7\n",
      "Opaque Exterior Wall Area                                       7\n",
      "WWR %\\n = 10-90% of Exterior Win (D) from Opaque Wall (E)       7\n",
      "Win U-value (W/m2K)                                             7\n",
      "Roof U-value (W/m2K)                                            7\n",
      "Wall U-value (W/m2K)                                            7\n",
      "Cooling MWh                                                     7\n",
      "Heating MWh                                                     7\n",
      "Total Energy MWh                                                7\n",
      "Cooling KWh/m2.yr                                               7\n",
      "Heating KWh/m2.yr                                               7\n",
      "Total Energy KWh/m2.yr                                          7\n",
      "Unnamed: 15                                                  3847\n",
      "Unnamed: 16                                                  3843\n",
      "c                                                               2\n",
      "h                                                               6\n",
      "cp                                                              4\n",
      "hp                                                              4\n",
      "c-cp                                                            6\n",
      "cp-c                                                            4\n",
      "h-hp                                                            4\n",
      "hp-h                                                            6\n",
      "c er2                                                           6\n",
      "h er2                                                           6\n",
      "mre                                                             6\n",
      "Unnamed: 28                                                     6\n",
      "dtype: int64\n"
     ]
    }
   ],
   "source": [
    "\n",
    "print(df.isnull().sum())\n",
    "\n",
    "df = df.drop_duplicates()\n",
    "\n",
    "if 'Date' in df.columns:\n",
    "    df['Date'] = pd.to_datetime(df['Date'])\n"
   ]
  },
  {
   "cell_type": "code",
   "execution_count": 47,
   "id": "a681404e",
   "metadata": {},
   "outputs": [
    {
     "name": "stdout",
     "output_type": "stream",
     "text": [
      "       Unnamed: 0  Building Area m2  Floor Height m  Exterior Win Area  \\\n",
      "count         0.0       3840.000000     3840.000000        3840.000000   \n",
      "mean          NaN        165.195000        2.900000         110.079035   \n",
      "std           NaN         19.337518        0.100013          63.116830   \n",
      "min           NaN        145.860000        2.800000          19.630100   \n",
      "25%           NaN        145.860000        2.800000          62.045200   \n",
      "50%           NaN        165.195000        2.900000         110.702050   \n",
      "75%           NaN        184.530000        3.000000         164.321350   \n",
      "max           NaN        184.530000        3.000000         217.370500   \n",
      "\n",
      "       Opaque Exterior Wall Area  \\\n",
      "count                3840.000000   \n",
      "mean                  110.079065   \n",
      "std                    63.116831   \n",
      "min                    19.630100   \n",
      "25%                    62.045200   \n",
      "50%                   110.702100   \n",
      "75%                   164.321425   \n",
      "max                   217.370500   \n",
      "\n",
      "       WWR %\\n = 10-90% of Exterior Win (D) from Opaque Wall (E)  \\\n",
      "count                                        3840.000000           \n",
      "mean                                           50.000000           \n",
      "std                                            28.287955           \n",
      "min                                            10.000000           \n",
      "25%                                            30.000000           \n",
      "50%                                            50.000000           \n",
      "75%                                            70.000000           \n",
      "max                                            90.000000           \n",
      "\n",
      "       Win U-value (W/m2K)  Roof U-value (W/m2K)  Wall U-value (W/m2K)  \\\n",
      "count          3840.000000           3840.000000            3840.00000   \n",
      "mean              3.155000              0.292500               1.51500   \n",
      "std               1.599591              0.128931               1.08566   \n",
      "min               0.970000              0.130000               0.26000   \n",
      "25%               1.630000              0.197500               0.53500   \n",
      "50%               3.060000              0.285000               1.32500   \n",
      "75%               4.610000              0.380000               2.28750   \n",
      "max               5.600000              0.470000               3.34000   \n",
      "\n",
      "       Cooling MWh  ...             c            h           hp         c-cp  \\\n",
      "count  3840.000000  ...  3.845000e+03  3841.000000  3843.000000  3841.000000   \n",
      "mean     55.298948  ...  6.718451e+02     2.791497     2.337987     2.712890   \n",
      "std      22.541722  ...  2.082467e+04    86.500300    72.229021    84.050514   \n",
      "min       0.140900  ...  1.356798e+00    -3.590821   -17.664364     0.000589   \n",
      "25%      38.984250  ...  2.405946e+02     0.030833    -7.800957     0.553189   \n",
      "50%      52.651800  ...  3.361532e+02     1.295115     1.101988     1.183276   \n",
      "75%      72.791050  ...  4.292757e+02     2.660041    10.266300     1.976747   \n",
      "max     111.220500  ...  1.291611e+06  5361.070464  4419.128026  5210.104923   \n",
      "\n",
      "               h-hp          hp-h         c er2         h er2          mre  \\\n",
      "count   3843.000000   3841.000000  3.841000e+03  3.841000e+03  3841.000000   \n",
      "mean      20.450304     20.445963  5.578170e+00  2.876004e+02     0.009877   \n",
      "std      633.278948    633.443486  1.728468e+02  8.910713e+03     0.306028   \n",
      "min        0.000552      0.000552  3.466854e-07  3.047040e-07     0.000001   \n",
      "25%        7.167717      7.169385  3.060178e-01  5.140009e+01     0.001667   \n",
      "50%        9.114665      9.114665  1.400142e+00  8.307711e+01     0.003590   \n",
      "75%       15.939132     15.937697  3.907528e+00  2.540102e+02     0.006476   \n",
      "max    39266.472200  39266.472200  1.071288e+04  5.523366e+05    18.968765   \n",
      "\n",
      "       Unnamed: 28  \n",
      "count  3841.000000  \n",
      "mean      1.141287  \n",
      "std     104.048703  \n",
      "min   -1971.447577  \n",
      "25%       0.023442  \n",
      "50%       3.170878  \n",
      "75%       7.448664  \n",
      "max    2285.152464  \n",
      "\n",
      "[8 rows x 26 columns]\n"
     ]
    },
    {
     "data": {
      "image/png": "[encoded data removed]",
      "text/plain": [
       "<Figure size 640x480 with 1 Axes>"
      ]
     },
     "metadata": {},
     "output_type": "display_data"
    }
   ],
   "source": [
    "# Summary\n",
    "print(df.describe())\n",
    "\n",
    "# Quick distribution plots\n",
    "import matplotlib.pyplot as plt\n",
    "\n",
    "df['Total Energy KWh/m2.yr'].hist(bins=30)\n",
    "plt.title(\"Energy Consumption Distribution\")\n",
    "plt.show()"
   ]
  },
  {
   "cell_type": "code",
   "execution_count": 48,
   "id": "35ece265",
   "metadata": {},
   "outputs": [],
   "source": [
    "\n",
    "if 'Date' in df.columns:\n",
    "    df['Hour'] = df['Date'].dt.hour\n",
    "    df['DayOfWeek'] = df['Date'].dt.dayofweek\n",
    "    df['Month'] = df['Date'].dt.month\n"
   ]
  },
  {
   "cell_type": "markdown",
   "id": "1a5465a7",
   "metadata": {},
   "source": [
    "Save cleaned dataset"
   ]
  },
  {
   "cell_type": "code",
   "execution_count": 50,
   "id": "fefe88db",
   "metadata": {},
   "outputs": [],
   "source": [
    "df.to_csv(\"cleaned_energy_consumption.csv\", index=False)\n"
   ]
  }
 ],
 "metadata": {
  "kernelspec": {
   "display_name": "base",
   "language": "python",
   "name": "python3"
  },
  "language_info": {
   "codemirror_mode": {
    "name": "ipython",
    "version": 3
   },
   "file_extension": ".py",
   "mimetype": "text/x-python",
   "name": "python",
   "nbconvert_exporter": "python",
   "pygments_lexer": "ipython3",
   "version": "3.10.9"
  }
 },
 "nbformat": 4,
 "nbformat_minor": 5
}
